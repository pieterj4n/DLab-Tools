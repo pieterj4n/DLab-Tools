{
 "cells": [
  {
   "cell_type": "code",
   "execution_count": 1,
   "metadata": {},
   "outputs": [],
   "source": [
    "import os\n",
    "import numpy as np \n",
    "import pandas as pd \n",
    "import SimpleITK as sitk\n",
    "from tqdm import tqdm_notebook as tqdm\n",
    "\n",
    "# ref.: https://www.kaggle.com/stainsby/fast-tested-rle\n",
    "def rle_encode(img):\n",
    "    '''\n",
    "    img: numpy array, 1 - mask, 0 - background\n",
    "    Returns run length as string formated\n",
    "    '''\n",
    "    pixels = img.flatten()\n",
    "    pixels = np.concatenate([[0], pixels, [0]])\n",
    "    runs = np.where(pixels[1:] != pixels[:-1])[0] + 1\n",
    "    runs[1::2] -= runs[::2]\n",
    "    return ' '.join(str(x) for x in runs)\n",
    " \n",
    "def rle_decode(mask_rle, shape):\n",
    "    '''\n",
    "    mask_rle: run-length as string formated (start length)\n",
    "    shape: (height,width) of array to return \n",
    "    Returns numpy array, 1 - mask, 0 - background\n",
    "\n",
    "    '''\n",
    "    s = mask_rle.split()\n",
    "    starts, lengths = [np.asarray(x, dtype=int) for x in (s[0:][::2], s[1:][::2])]\n",
    "    starts -= 1\n",
    "    ends = starts + lengths\n",
    "    img = np.zeros(shape[0]*shape[1], dtype=np.uint8)\n",
    "    for lo, hi in zip(starts, ends):\n",
    "        img[lo:hi] = 1\n",
    "    return img.reshape(shape)"
   ]
  },
  {
   "cell_type": "code",
   "execution_count": 2,
   "metadata": {
    "scrolled": true
   },
   "outputs": [],
   "source": [
    "path = r\"./Segmentation_out/Task101_Lung\"\n",
    "patients = os.listdir(path)\n"
   ]
  },
  {
   "cell_type": "code",
   "execution_count": 10,
   "metadata": {
    "scrolled": true
   },
   "outputs": [
    {
     "data": {
      "text/html": [
       "<div>\n",
       "<style scoped>\n",
       "    .dataframe tbody tr th:only-of-type {\n",
       "        vertical-align: middle;\n",
       "    }\n",
       "\n",
       "    .dataframe tbody tr th {\n",
       "        vertical-align: top;\n",
       "    }\n",
       "\n",
       "    .dataframe thead th {\n",
       "        text-align: right;\n",
       "    }\n",
       "</style>\n",
       "<table border=\"1\" class=\"dataframe\">\n",
       "  <thead>\n",
       "    <tr style=\"text-align: right;\">\n",
       "      <th></th>\n",
       "      <th>Id</th>\n",
       "      <th>Predicted</th>\n",
       "    </tr>\n",
       "  </thead>\n",
       "  <tbody>\n",
       "    <tr>\n",
       "      <th>0</th>\n",
       "      <td>LUNG1_001</td>\n",
       "      <td>17 1 529 1 1041 1 1553 1 2065 1 2577 1 3089 1 ...</td>\n",
       "    </tr>\n",
       "    <tr>\n",
       "      <th>1</th>\n",
       "      <td>LUNG1_002</td>\n",
       "      <td>17 1 529 1 1041 1 1553 1 2065 1 2577 1 3089 1 ...</td>\n",
       "    </tr>\n",
       "    <tr>\n",
       "      <th>2</th>\n",
       "      <td>LUNG1_003</td>\n",
       "      <td>17 1 529 1 1041 1 1553 1 2065 1 2577 1 3089 1 ...</td>\n",
       "    </tr>\n",
       "    <tr>\n",
       "      <th>3</th>\n",
       "      <td>LUNG1_004</td>\n",
       "      <td>17 1 529 1 1041 1 1553 1 2065 1 2577 1 3089 1 ...</td>\n",
       "    </tr>\n",
       "    <tr>\n",
       "      <th>4</th>\n",
       "      <td>LUNG1_005</td>\n",
       "      <td>17 1 529 1 1041 1 1553 1 2065 1 2577 1 3089 1 ...</td>\n",
       "    </tr>\n",
       "  </tbody>\n",
       "</table>\n",
       "</div>"
      ],
      "text/plain": [
       "          Id                                          Predicted\n",
       "0  LUNG1_001  17 1 529 1 1041 1 1553 1 2065 1 2577 1 3089 1 ...\n",
       "1  LUNG1_002  17 1 529 1 1041 1 1553 1 2065 1 2577 1 3089 1 ...\n",
       "2  LUNG1_003  17 1 529 1 1041 1 1553 1 2065 1 2577 1 3089 1 ...\n",
       "3  LUNG1_004  17 1 529 1 1041 1 1553 1 2065 1 2577 1 3089 1 ...\n",
       "4  LUNG1_005  17 1 529 1 1041 1 1553 1 2065 1 2577 1 3089 1 ..."
      ]
     },
     "execution_count": 10,
     "metadata": {},
     "output_type": "execute_result"
    }
   ],
   "source": [
    "sample_subm_file = pd.read_csv('sampleSubmission.csv')\n",
    "sample_subm_file.head(5)"
   ]
  },
  {
   "cell_type": "code",
   "execution_count": 11,
   "metadata": {},
   "outputs": [
    {
     "name": "stderr",
     "output_type": "stream",
     "text": [
      "<ipython-input-11-d4c01e2923e9>:3: TqdmDeprecationWarning: This function will be removed in tqdm==5.0.0\n",
      "Please use `tqdm.notebook.tqdm` instead of `tqdm.tqdm_notebook`\n",
      "  for pat in tqdm(patients):\n"
     ]
    },
    {
     "data": {
      "application/vnd.jupyter.widget-view+json": {
       "model_id": "d1eac131776e49818368421ab59f6b13",
       "version_major": 2,
       "version_minor": 0
      },
      "text/plain": [
       "  0%|          | 0/72 [00:00<?, ?it/s]"
      ]
     },
     "metadata": {},
     "output_type": "display_data"
    }
   ],
   "source": [
    "submission_file = pd.DataFrame(None,columns=sample_subm_file.columns)\n",
    "\n",
    "for pat in tqdm(patients):\n",
    "    mask = sitk.ReadImage(os.path.join(path,pat))\n",
    "    submission_file = submission_file.append({'Id':pat[:-7].replace('_','-'),'Predicted':rle_encode(sitk.GetArrayFromImage(mask))},\n",
    "                           ignore_index=True)\n",
    "    "
   ]
  },
  {
   "cell_type": "code",
   "execution_count": 12,
   "metadata": {
    "scrolled": true
   },
   "outputs": [
    {
     "data": {
      "text/html": [
       "<div>\n",
       "<style scoped>\n",
       "    .dataframe tbody tr th:only-of-type {\n",
       "        vertical-align: middle;\n",
       "    }\n",
       "\n",
       "    .dataframe tbody tr th {\n",
       "        vertical-align: top;\n",
       "    }\n",
       "\n",
       "    .dataframe thead th {\n",
       "        text-align: right;\n",
       "    }\n",
       "</style>\n",
       "<table border=\"1\" class=\"dataframe\">\n",
       "  <thead>\n",
       "    <tr style=\"text-align: right;\">\n",
       "      <th></th>\n",
       "      <th>Id</th>\n",
       "      <th>Predicted</th>\n",
       "    </tr>\n",
       "  </thead>\n",
       "  <tbody>\n",
       "    <tr>\n",
       "      <th>0</th>\n",
       "      <td>LUNG1-351</td>\n",
       "      <td>17177290 1 17436358 1 17436869 5 17437381 7 17...</td>\n",
       "    </tr>\n",
       "    <tr>\n",
       "      <th>1</th>\n",
       "      <td>LUNG1-352</td>\n",
       "      <td>19017401 3 19017912 5 19018423 10 19018933 11 ...</td>\n",
       "    </tr>\n",
       "    <tr>\n",
       "      <th>2</th>\n",
       "      <td>LUNG1-353</td>\n",
       "      <td>9877856 4 9878368 5 9878880 5 9879392 5 987990...</td>\n",
       "    </tr>\n",
       "    <tr>\n",
       "      <th>3</th>\n",
       "      <td>LUNG1-354</td>\n",
       "      <td></td>\n",
       "    </tr>\n",
       "    <tr>\n",
       "      <th>4</th>\n",
       "      <td>LUNG1-355</td>\n",
       "      <td>13534001 3 13534511 6 13535022 7 13535534 8 13...</td>\n",
       "    </tr>\n",
       "    <tr>\n",
       "      <th>...</th>\n",
       "      <td>...</td>\n",
       "      <td>...</td>\n",
       "    </tr>\n",
       "    <tr>\n",
       "      <th>67</th>\n",
       "      <td>LUNG1-418</td>\n",
       "      <td>18490183 2 18490695 2 18491208 1 18492235 2 18...</td>\n",
       "    </tr>\n",
       "    <tr>\n",
       "      <th>68</th>\n",
       "      <td>LUNG1-419</td>\n",
       "      <td></td>\n",
       "    </tr>\n",
       "    <tr>\n",
       "      <th>69</th>\n",
       "      <td>LUNG1-420</td>\n",
       "      <td>14846275 2 14846787 2 14847299 2 14847811 2 15...</td>\n",
       "    </tr>\n",
       "    <tr>\n",
       "      <th>70</th>\n",
       "      <td>LUNG1-421</td>\n",
       "      <td>11909298 1 11909808 3 11910320 2 12170930 6 12...</td>\n",
       "    </tr>\n",
       "    <tr>\n",
       "      <th>71</th>\n",
       "      <td>LUNG1-422</td>\n",
       "      <td>9592040 1 9592551 1 9593063 1 9593574 2 985009...</td>\n",
       "    </tr>\n",
       "  </tbody>\n",
       "</table>\n",
       "<p>72 rows × 2 columns</p>\n",
       "</div>"
      ],
      "text/plain": [
       "           Id                                          Predicted\n",
       "0   LUNG1-351  17177290 1 17436358 1 17436869 5 17437381 7 17...\n",
       "1   LUNG1-352  19017401 3 19017912 5 19018423 10 19018933 11 ...\n",
       "2   LUNG1-353  9877856 4 9878368 5 9878880 5 9879392 5 987990...\n",
       "3   LUNG1-354                                                   \n",
       "4   LUNG1-355  13534001 3 13534511 6 13535022 7 13535534 8 13...\n",
       "..        ...                                                ...\n",
       "67  LUNG1-418  18490183 2 18490695 2 18491208 1 18492235 2 18...\n",
       "68  LUNG1-419                                                   \n",
       "69  LUNG1-420  14846275 2 14846787 2 14847299 2 14847811 2 15...\n",
       "70  LUNG1-421  11909298 1 11909808 3 11910320 2 12170930 6 12...\n",
       "71  LUNG1-422  9592040 1 9592551 1 9593063 1 9593574 2 985009...\n",
       "\n",
       "[72 rows x 2 columns]"
      ]
     },
     "execution_count": 12,
     "metadata": {},
     "output_type": "execute_result"
    }
   ],
   "source": [
    "submission_file"
   ]
  },
  {
   "cell_type": "code",
   "execution_count": 13,
   "metadata": {},
   "outputs": [],
   "source": [
    "submission_file.to_csv('submission.csv',index=False)"
   ]
  },
  {
   "cell_type": "code",
   "execution_count": null,
   "metadata": {},
   "outputs": [],
   "source": []
  },
  {
   "cell_type": "code",
   "execution_count": null,
   "metadata": {},
   "outputs": [],
   "source": []
  }
 ],
 "metadata": {
  "kernelspec": {
   "display_name": "Python 3",
   "language": "python",
   "name": "python3"
  },
  "language_info": {
   "codemirror_mode": {
    "name": "ipython",
    "version": 3
   },
   "file_extension": ".py",
   "mimetype": "text/x-python",
   "name": "python",
   "nbconvert_exporter": "python",
   "pygments_lexer": "ipython3",
   "version": "3.8.8"
  }
 },
 "nbformat": 4,
 "nbformat_minor": 4
}
